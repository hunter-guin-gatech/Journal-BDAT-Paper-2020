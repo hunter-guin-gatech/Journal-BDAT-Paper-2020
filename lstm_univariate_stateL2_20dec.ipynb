{
 "cells": [
  {
   "cell_type": "markdown",
   "metadata": {},
   "source": [
    "**Recurrent Neural Networks with Long Short Term Memory Units for Time Series Predictions and Imputations Test - 17 Nov**\n",
    "\n"
   ]
  },
  {
   "cell_type": "markdown",
   "metadata": {},
   "source": [
    "1. Test on all Monday 24 hours data for State Eb L_2"
   ]
  },
  {
   "cell_type": "code",
   "execution_count": 1,
   "metadata": {},
   "outputs": [
    {
     "name": "stdout",
     "output_type": "stream",
     "text": [
      "Requirement already satisfied: tf-nightly-2.0-preview in c:\\users\\asaroj3\\appdata\\local\\continuum\\anaconda3\\lib\\site-packages (2.0.0.dev20191002)\n",
      "Requirement already satisfied: termcolor>=1.1.0 in c:\\users\\asaroj3\\appdata\\local\\continuum\\anaconda3\\lib\\site-packages (from tf-nightly-2.0-preview) (1.1.0)\n",
      "Requirement already satisfied: wrapt>=1.11.1 in c:\\users\\asaroj3\\appdata\\local\\continuum\\anaconda3\\lib\\site-packages (from tf-nightly-2.0-preview) (1.11.2)\n",
      "Requirement already satisfied: keras-preprocessing>=1.0.5 in c:\\users\\asaroj3\\appdata\\local\\continuum\\anaconda3\\lib\\site-packages (from tf-nightly-2.0-preview) (1.1.0)\n",
      "Requirement already satisfied: six>=1.10.0 in c:\\users\\asaroj3\\appdata\\local\\continuum\\anaconda3\\lib\\site-packages (from tf-nightly-2.0-preview) (1.12.0)\n",
      "Requirement already satisfied: tensorflow-estimator-2.0-preview in c:\\users\\asaroj3\\appdata\\local\\continuum\\anaconda3\\lib\\site-packages (from tf-nightly-2.0-preview) (2.0.0)\n",
      "Requirement already satisfied: wheel>=0.26; python_version >= \"3\" in c:\\users\\asaroj3\\appdata\\local\\continuum\\anaconda3\\lib\\site-packages (from tf-nightly-2.0-preview) (0.33.6)\n",
      "Requirement already satisfied: absl-py>=0.7.0 in c:\\users\\asaroj3\\appdata\\local\\continuum\\anaconda3\\lib\\site-packages (from tf-nightly-2.0-preview) (0.8.1)\n",
      "Requirement already satisfied: protobuf>=3.6.1 in c:\\users\\asaroj3\\appdata\\local\\continuum\\anaconda3\\lib\\site-packages (from tf-nightly-2.0-preview) (3.10.0)\n",
      "Requirement already satisfied: gast==0.2.2 in c:\\users\\asaroj3\\appdata\\local\\continuum\\anaconda3\\lib\\site-packages (from tf-nightly-2.0-preview) (0.2.2)\n",
      "Requirement already satisfied: numpy<2.0,>=1.16.0 in c:\\users\\asaroj3\\appdata\\local\\continuum\\anaconda3\\lib\\site-packages (from tf-nightly-2.0-preview) (1.16.5)\n",
      "Requirement already satisfied: astor>=0.6.0 in c:\\users\\asaroj3\\appdata\\local\\continuum\\anaconda3\\lib\\site-packages (from tf-nightly-2.0-preview) (0.8.0)\n",
      "Requirement already satisfied: google-pasta>=0.1.6 in c:\\users\\asaroj3\\appdata\\local\\continuum\\anaconda3\\lib\\site-packages (from tf-nightly-2.0-preview) (0.1.8)\n",
      "Requirement already satisfied: tb-nightly<2.2.0a0,>=2.1.0a0 in c:\\users\\asaroj3\\appdata\\local\\continuum\\anaconda3\\lib\\site-packages (from tf-nightly-2.0-preview) (2.1.0a20191117)\n",
      "Requirement already satisfied: grpcio>=1.8.6 in c:\\users\\asaroj3\\appdata\\local\\continuum\\anaconda3\\lib\\site-packages (from tf-nightly-2.0-preview) (1.25.0)\n",
      "Requirement already satisfied: keras-applications>=1.0.8 in c:\\users\\asaroj3\\appdata\\local\\continuum\\anaconda3\\lib\\site-packages (from tf-nightly-2.0-preview) (1.0.8)\n",
      "Requirement already satisfied: opt-einsum>=2.3.2 in c:\\users\\asaroj3\\appdata\\local\\continuum\\anaconda3\\lib\\site-packages (from tf-nightly-2.0-preview) (3.1.0)\n",
      "Requirement already satisfied: setuptools in c:\\users\\asaroj3\\appdata\\roaming\\python\\python37\\site-packages (from protobuf>=3.6.1->tf-nightly-2.0-preview) (41.6.0)\n",
      "Requirement already satisfied: google-auth-oauthlib<0.5,>=0.4.1 in c:\\users\\asaroj3\\appdata\\local\\continuum\\anaconda3\\lib\\site-packages (from tb-nightly<2.2.0a0,>=2.1.0a0->tf-nightly-2.0-preview) (0.4.1)\n",
      "Requirement already satisfied: werkzeug>=0.11.15 in c:\\users\\asaroj3\\appdata\\local\\continuum\\anaconda3\\lib\\site-packages (from tb-nightly<2.2.0a0,>=2.1.0a0->tf-nightly-2.0-preview) (0.16.0)\n",
      "Requirement already satisfied: google-auth<2,>=1.6.3 in c:\\users\\asaroj3\\appdata\\local\\continuum\\anaconda3\\lib\\site-packages (from tb-nightly<2.2.0a0,>=2.1.0a0->tf-nightly-2.0-preview) (1.7.1)\n",
      "Requirement already satisfied: requests<3,>=2.21.0 in c:\\users\\asaroj3\\appdata\\local\\continuum\\anaconda3\\lib\\site-packages (from tb-nightly<2.2.0a0,>=2.1.0a0->tf-nightly-2.0-preview) (2.22.0)\n",
      "Requirement already satisfied: markdown>=2.6.8 in c:\\users\\asaroj3\\appdata\\local\\continuum\\anaconda3\\lib\\site-packages (from tb-nightly<2.2.0a0,>=2.1.0a0->tf-nightly-2.0-preview) (3.1.1)\n",
      "Requirement already satisfied: h5py in c:\\users\\asaroj3\\appdata\\local\\continuum\\anaconda3\\lib\\site-packages (from keras-applications>=1.0.8->tf-nightly-2.0-preview) (2.9.0)\n",
      "Requirement already satisfied: requests-oauthlib>=0.7.0 in c:\\users\\asaroj3\\appdata\\local\\continuum\\anaconda3\\lib\\site-packages (from google-auth-oauthlib<0.5,>=0.4.1->tb-nightly<2.2.0a0,>=2.1.0a0->tf-nightly-2.0-preview) (1.3.0)\n",
      "Requirement already satisfied: rsa<4.1,>=3.1.4 in c:\\users\\asaroj3\\appdata\\local\\continuum\\anaconda3\\lib\\site-packages (from google-auth<2,>=1.6.3->tb-nightly<2.2.0a0,>=2.1.0a0->tf-nightly-2.0-preview) (4.0)\n",
      "Requirement already satisfied: pyasn1-modules>=0.2.1 in c:\\users\\asaroj3\\appdata\\local\\continuum\\anaconda3\\lib\\site-packages (from google-auth<2,>=1.6.3->tb-nightly<2.2.0a0,>=2.1.0a0->tf-nightly-2.0-preview) (0.2.7)\n",
      "Requirement already satisfied: cachetools<3.2,>=2.0.0 in c:\\users\\asaroj3\\appdata\\local\\continuum\\anaconda3\\lib\\site-packages (from google-auth<2,>=1.6.3->tb-nightly<2.2.0a0,>=2.1.0a0->tf-nightly-2.0-preview) (3.1.1)\n",
      "Requirement already satisfied: certifi>=2017.4.17 in c:\\users\\asaroj3\\appdata\\local\\continuum\\anaconda3\\lib\\site-packages (from requests<3,>=2.21.0->tb-nightly<2.2.0a0,>=2.1.0a0->tf-nightly-2.0-preview) (2019.9.11)\n",
      "Requirement already satisfied: idna<2.9,>=2.5 in c:\\users\\asaroj3\\appdata\\local\\continuum\\anaconda3\\lib\\site-packages (from requests<3,>=2.21.0->tb-nightly<2.2.0a0,>=2.1.0a0->tf-nightly-2.0-preview) (2.8)\n",
      "Requirement already satisfied: urllib3!=1.25.0,!=1.25.1,<1.26,>=1.21.1 in c:\\users\\asaroj3\\appdata\\local\\continuum\\anaconda3\\lib\\site-packages (from requests<3,>=2.21.0->tb-nightly<2.2.0a0,>=2.1.0a0->tf-nightly-2.0-preview) (1.24.2)\n",
      "Requirement already satisfied: chardet<3.1.0,>=3.0.2 in c:\\users\\asaroj3\\appdata\\local\\continuum\\anaconda3\\lib\\site-packages (from requests<3,>=2.21.0->tb-nightly<2.2.0a0,>=2.1.0a0->tf-nightly-2.0-preview) (3.0.4)\n",
      "Requirement already satisfied: oauthlib>=3.0.0 in c:\\users\\asaroj3\\appdata\\local\\continuum\\anaconda3\\lib\\site-packages (from requests-oauthlib>=0.7.0->google-auth-oauthlib<0.5,>=0.4.1->tb-nightly<2.2.0a0,>=2.1.0a0->tf-nightly-2.0-preview) (3.1.0)\n",
      "Requirement already satisfied: pyasn1>=0.1.3 in c:\\users\\asaroj3\\appdata\\local\\continuum\\anaconda3\\lib\\site-packages (from rsa<4.1,>=3.1.4->google-auth<2,>=1.6.3->tb-nightly<2.2.0a0,>=2.1.0a0->tf-nightly-2.0-preview) (0.4.8)\n"
     ]
    }
   ],
   "source": [
    "!pip install tf-nightly-2.0-preview"
   ]
  },
  {
   "cell_type": "code",
   "execution_count": 2,
   "metadata": {},
   "outputs": [
    {
     "name": "stdout",
     "output_type": "stream",
     "text": [
      "2.0.0-dev20191002\n"
     ]
    }
   ],
   "source": [
    "import tensorflow as tf\n",
    "import numpy as np\n",
    "import matplotlib.pyplot as plt\n",
    "import csv\n",
    "import pandas as pd\n",
    "import os\n",
    "import math\n",
    "print(tf.__version__)"
   ]
  },
  {
   "cell_type": "code",
   "execution_count": 3,
   "metadata": {},
   "outputs": [
    {
     "name": "stdout",
     "output_type": "stream",
     "text": [
      "-10.0\n",
      "5.0\n"
     ]
    }
   ],
   "source": [
    "dataset = pd.read_csv('allmonday_reviseddata_modified.csv', header=0, index_col=None)\n",
    "\n",
    "#replace missing values y -10 to test if model will learn to not include these in these as missing values\n",
    "dataset_w_missing = dataset.fillna(-10,inplace=True)\n",
    "dataset = dataset[:-240]\n",
    "#check\n",
    "print (dataset.iloc[49]['State-EB-L_2'])\n",
    "print (dataset.iloc[3359]['State-EB-L_2'])"
   ]
  },
  {
   "cell_type": "code",
   "execution_count": 4,
   "metadata": {},
   "outputs": [
    {
     "data": {
      "image/png": "[encoded data removed]",
      "text/plain": [
       "<Figure size 432x288 with 1 Axes>"
      ]
     },
     "metadata": {
      "needs_background": "light"
     },
     "output_type": "display_data"
    }
   ],
   "source": [
    "def plot_series(time, series, format=\"-\", start=0, end=None):\n",
    "    plt.plot(time[start:end], series[start:end], format)\n",
    "    plt.xlabel(\"Time\")\n",
    "    plt.ylabel(\"VolumeCount\")\n",
    "    plt.grid(False)\n",
    "\n",
    "#extract State-EB-L_2 series \n",
    "series = dataset['State-EB-L_2'].values\n",
    "time = dataset['date_time'].values\n",
    "\n",
    "time_num = [i for i in range(len(series))]\n",
    "plt.plot(time_num, series, color = 'blue')\n",
    "#plot_series(time_num, series)\n",
    "\n",
    "plt.xlabel(\"Time\")\n",
    "plt.ylabel(\"VolumeCount\")\n",
    "plt.ylim(top=120)\n",
    "plt.grid(False)"
   ]
  },
  {
   "cell_type": "markdown",
   "metadata": {},
   "source": [
    "**Split data into training and time**\n",
    "\n",
    "**Define window_size, batch_size, and shuffle_buffer_size for modelling**\n",
    "\n",
    "Window Size\n",
    "\n",
    "batch Size\n",
    "\n",
    "Shuffle uffer Size"
   ]
  },
  {
   "cell_type": "code",
   "execution_count": 5,
   "metadata": {},
   "outputs": [],
   "source": [
    "num_days = 11\n",
    "split_time = num_days*240\n",
    "time_train = time[:split_time]\n",
    "x_train = series[:split_time]\n",
    "time_valid = time[split_time:]\n",
    "x_valid = series[split_time:]\n",
    "\n",
    "window_size = 80\n",
    "batch_size = 30\n",
    "shuffle_buffer_size = 100"
   ]
  },
  {
   "cell_type": "markdown",
   "metadata": {},
   "source": [
    "**Creating windowed dataset**\n",
    "\n",
    "Give explanation...\n",
    "\n"
   ]
  },
  {
   "cell_type": "code",
   "execution_count": null,
   "metadata": {},
   "outputs": [],
   "source": [
    "def windowed_dataset(series, window_size, batch_size, shuffle_buffer):\n",
    "  dataset = tf.data.Dataset.from_tensor_slices(series)\n",
    "  dataset = dataset.window(window_size + 1, shift=1, drop_remainder=True)\n",
    "  dataset = dataset.flat_map(lambda window: window.batch(window_size + 1))\n",
    "  dataset = dataset.shuffle(shuffle_buffer).map(lambda window: (window[:-1], window[-1]))\n",
    "  dataset = dataset.batch(batch_size).prefetch(1)\n",
    "  return dataset"
   ]
  },
  {
   "cell_type": "code",
   "execution_count": null,
   "metadata": {},
   "outputs": [],
   "source": [
    "dataset = tf.data.Dataset.from_tensor_slices(series)\n",
    "dataset = dataset.window(window_size + 1, shift=1, drop_remainder=True)\n",
    "dataset = dataset.flat_map(lambda window: window.batch(window_size + 1))\n",
    "dataset = dataset.shuffle(shuffle_buffer_size).map(lambda window: (window[:-1], window[-1]))\n",
    "dataset = dataset.batch(batch_size).prefetch(1)\n",
    "print (dataset)"
   ]
  },
  {
   "cell_type": "code",
   "execution_count": null,
   "metadata": {},
   "outputs": [],
   "source": [
    "os.environ['PYTHONHASHSEED']=str(51)\n",
    "tf.keras.backend.clear_session()\n",
    "tf.random.set_seed(51)\n",
    "np.random.seed(51)\n",
    "tf.keras.backend.clear_session()\n",
    "dataset = windowed_dataset(x_train, window_size, batch_size, shuffle_buffer_size)\n",
    "\n",
    "\n",
    "# model = tf.keras.models.Sequential([\n",
    "#   tf.keras.layers.Lambda(lambda x: tf.expand_dims(x, axis=-1),\n",
    "#                       input_shape=[None]),\n",
    "#   tf.keras.layers.Bidirectional(tf.keras.layers.LSTM(32, return_sequences=True)),\n",
    "#   tf.keras.layers.Bidirectional(tf.keras.layers.LSTM(32)),\n",
    "#   tf.keras.layers.Dense(1),\n",
    "#   tf.keras.layers.Lambda(lambda x: x * 10.0)\n",
    "# ])\n",
    "\n",
    "model = tf.keras.models.Sequential([\n",
    "  tf.keras.layers.Lambda(lambda x: tf.expand_dims(x, axis=-1),\n",
    "                      input_shape=[None]),\n",
    "  tf.keras.layers.Bidirectional(tf.keras.layers.LSTM(32, return_sequences=True)),\n",
    "    tf.keras.layers.Bidirectional(tf.keras.layers.LSTM(40, return_sequences=True)),\n",
    "    tf.keras.layers.Bidirectional(tf.keras.layers.LSTM(40, return_sequences=True)),\n",
    "  tf.keras.layers.Bidirectional(tf.keras.layers.LSTM(32)),\n",
    "  tf.keras.layers.Dense(1),\n",
    "  tf.keras.layers.Lambda(lambda x: x * 10.0)\n",
    "])\n",
    "\n",
    "lr_schedule = tf.keras.callbacks.LearningRateScheduler(\n",
    "    lambda epoch: 1e-8 * 10**(epoch / 20))\n",
    "optimizer = tf.keras.optimizers.SGD(lr=1e-8, momentum=0.9)\n",
    "model.compile(loss=tf.keras.losses.Huber(),\n",
    "              optimizer=optimizer,\n",
    "              metrics=[\"mae\"])\n",
    "history = model.fit(dataset, epochs=150, callbacks=[lr_schedule])\n"
   ]
  },
  {
   "cell_type": "code",
   "execution_count": null,
   "metadata": {},
   "outputs": [],
   "source": [
    "plt.semilogx(history.history[\"lr\"], history.history[\"loss\"])\n",
    "plt.axis([1e-8, 1e-2, 0, 30])"
   ]
  },
  {
   "cell_type": "code",
   "execution_count": null,
   "metadata": {},
   "outputs": [],
   "source": [
    "os.environ['PYTHONHASHSEED']=str(51)\n",
    "tf.keras.backend.clear_session()\n",
    "tf.random.set_seed(51)\n",
    "np.random.seed(51)\n",
    "\n",
    "tf.keras.backend.clear_session()\n",
    "dataset = windowed_dataset(x_train, window_size, batch_size, shuffle_buffer_size)\n",
    "\n",
    "# model = tf.keras.models.Sequential([\n",
    "#   tf.keras.layers.Lambda(lambda x: tf.expand_dims(x, axis=-1),\n",
    "#                       input_shape=[None]),\n",
    "#     tf.keras.layers.Bidirectional(tf.keras.layers.LSTM(32, return_sequences=True)),\n",
    "#   tf.keras.layers.Bidirectional(tf.keras.layers.LSTM(32)),\n",
    "#   tf.keras.layers.Dense(1),\n",
    "#   tf.keras.layers.Lambda(lambda x: x * 100.0)\n",
    "# ])\n",
    "\n",
    "model = tf.keras.models.Sequential([\n",
    "  tf.keras.layers.Lambda(lambda x: tf.expand_dims(x, axis=-1),\n",
    "                      input_shape=[None]),\n",
    "  tf.keras.layers.Bidirectional(tf.keras.layers.LSTM(32, return_sequences=True)),\n",
    "    tf.keras.layers.Bidirectional(tf.keras.layers.LSTM(40, return_sequences=True)),\n",
    "    tf.keras.layers.Bidirectional(tf.keras.layers.LSTM(40, return_sequences=True)),\n",
    "  tf.keras.layers.Bidirectional(tf.keras.layers.LSTM(32)),\n",
    "  tf.keras.layers.Dense(1),\n",
    "  tf.keras.layers.Lambda(lambda x: x * 10.0)\n",
    "])\n",
    "\n",
    "model.compile(loss=\"mse\", optimizer=tf.keras.optimizers.SGD(lr=1e-4, momentum=0.9),metrics=[\"mae\"])\n",
    "history = model.fit(dataset,epochs=500,verbose=1)"
   ]
  },
  {
   "cell_type": "code",
   "execution_count": null,
   "metadata": {},
   "outputs": [],
   "source": [
    "model.save('state_eb_uni_l1.h5')"
   ]
  },
  {
   "cell_type": "code",
   "execution_count": 6,
   "metadata": {},
   "outputs": [
    {
     "name": "stdout",
     "output_type": "stream",
     "text": [
      "Model: \"sequential\"\n",
      "_________________________________________________________________\n",
      "Layer (type)                 Output Shape              Param #   \n",
      "=================================================================\n",
      "lambda (Lambda)              (None, None, 1)           0         \n",
      "_________________________________________________________________\n",
      "bidirectional (Bidirectional (None, None, 64)          8704      \n",
      "_________________________________________________________________\n",
      "bidirectional_1 (Bidirection (None, None, 80)          33600     \n",
      "_________________________________________________________________\n",
      "bidirectional_2 (Bidirection (None, None, 80)          38720     \n",
      "_________________________________________________________________\n",
      "bidirectional_3 (Bidirection (None, 64)                28928     \n",
      "_________________________________________________________________\n",
      "dense (Dense)                (None, 1)                 65        \n",
      "_________________________________________________________________\n",
      "lambda_1 (Lambda)            (None, 1)                 0         \n",
      "=================================================================\n",
      "Total params: 110,017\n",
      "Trainable params: 110,017\n",
      "Non-trainable params: 0\n",
      "_________________________________________________________________\n"
     ]
    }
   ],
   "source": [
    "# Recreate the exact same model, including its weights and the optimizer\n",
    "new_model = tf.keras.models.load_model('state_eb_uni_l1.h5')\n",
    "\n",
    "# Show the model architecture\n",
    "new_model.summary()"
   ]
  },
  {
   "cell_type": "code",
   "execution_count": 7,
   "metadata": {},
   "outputs": [
    {
     "ename": "NameError",
     "evalue": "name 'results' is not defined",
     "output_type": "error",
     "traceback": [
      "\u001b[1;31m---------------------------------------------------------------------------\u001b[0m",
      "\u001b[1;31mNameError\u001b[0m                                 Traceback (most recent call last)",
      "\u001b[1;32m<ipython-input-7-288e930f20f9>\u001b[0m in \u001b[0;36m<module>\u001b[1;34m\u001b[0m\n\u001b[0;32m      1\u001b[0m \u001b[0mplt\u001b[0m\u001b[1;33m.\u001b[0m\u001b[0mplot\u001b[0m\u001b[1;33m(\u001b[0m\u001b[0mtime_valid\u001b[0m\u001b[1;33m,\u001b[0m \u001b[0mx_valid\u001b[0m\u001b[1;33m,\u001b[0m \u001b[0mcolor\u001b[0m \u001b[1;33m=\u001b[0m \u001b[1;34m'blue'\u001b[0m\u001b[1;33m)\u001b[0m\u001b[1;33m\u001b[0m\u001b[1;33m\u001b[0m\u001b[0m\n\u001b[1;32m----> 2\u001b[1;33m \u001b[0mplt\u001b[0m\u001b[1;33m.\u001b[0m\u001b[0mplot\u001b[0m\u001b[1;33m(\u001b[0m\u001b[0mtime_valid\u001b[0m\u001b[1;33m,\u001b[0m \u001b[0mresults\u001b[0m\u001b[1;33m,\u001b[0m \u001b[0mcolor\u001b[0m \u001b[1;33m=\u001b[0m \u001b[1;34m'green'\u001b[0m\u001b[1;33m)\u001b[0m\u001b[1;33m\u001b[0m\u001b[1;33m\u001b[0m\u001b[0m\n\u001b[0m",
      "\u001b[1;31mNameError\u001b[0m: name 'results' is not defined"
     ]
    },
    {
     "data": {
      "image/png": "[encoded data removed]",
      "text/plain": [
       "<Figure size 432x288 with 1 Axes>"
      ]
     },
     "metadata": {
      "needs_background": "light"
     },
     "output_type": "display_data"
    }
   ],
   "source": [
    "plt.plot(time_valid, x_valid, color = 'blue')\n",
    "plt.plot(time_valid, results, color = 'green')"
   ]
  },
  {
   "cell_type": "code",
   "execution_count": null,
   "metadata": {},
   "outputs": [],
   "source": [
    "forecast = []\n",
    "results = []\n",
    "for time in range(len(series) - window_size):\n",
    "    forecast.append(new_model.predict(series[time:time + window_size][np.newaxis]))\n",
    "\n",
    "forecast = forecast[split_time-window_size:]\n",
    "results = np.array(forecast)[:, 0, 0]\n",
    "time_valid = [i for i in range(len(time_valid))]\n",
    "plt.figure(figsize=(10, 6))\n",
    "plt.xticks(rotation=90)\n",
    "plt.xlabel(\"Time\")\n",
    "plt.ylabel(\"Volume Count\")\n",
    "plt.grid(False)\n",
    "plt.plot(time_valid, x_valid, color = 'blue')\n",
    "plt.plot(time_valid, results, color = 'green')\n",
    "plt.ylim(top=120)\n",
    "# plot_series(time_valid, x_valid)\n",
    "# plot_series(time_valid, results)"
   ]
  },
  {
   "cell_type": "code",
   "execution_count": null,
   "metadata": {},
   "outputs": [],
   "source": [
    "tf.keras.metrics.mean_absolute_error(x_valid, results).numpy()"
   ]
  },
  {
   "cell_type": "code",
   "execution_count": null,
   "metadata": {},
   "outputs": [],
   "source": [
    "mae = tf.keras.metrics.mean_absolute_error(x_valid, results).numpy()\n",
    "print (\"mean absolute error: \"+ str(mae))\n",
    "mse = tf.keras.metrics.mean_squared_error(x_valid, results).numpy()\n",
    "print (\"mean squared error: \"+ str(mse))\n",
    "rmse = math.sqrt(tf.keras.metrics.mean_squared_error(x_valid, results).numpy())\n",
    "print (\"root mean squared error: \"+ str(rmse))\n",
    "array_of_errors = (x_valid - results)\n",
    "forecast_bias = sum(array_of_errors)\n",
    "#print (array_of_errors)\n",
    "print (\"forecast_bias: \"+ str(forecast_bias))\n",
    "std_dev_errors = np.std(array_of_errors)\n",
    "print (\"standard dev of errors: \"+ str(std_dev_errors))"
   ]
  },
  {
   "cell_type": "markdown",
   "metadata": {},
   "source": [
    "## Forecast on Typical Day Slice"
   ]
  },
  {
   "cell_type": "code",
   "execution_count": null,
   "metadata": {},
   "outputs": [],
   "source": [
    "typical_actuals = x_valid[:480]\n",
    "typical_predictions = results[:480]\n",
    "#print (typical_predictions)\n",
    "mae = tf.keras.metrics.mean_absolute_error(typical_actuals, typical_predictions).numpy()\n",
    "print (\"mean absolute error: \"+ str(mae))\n",
    "mse = tf.keras.metrics.mean_squared_error(typical_actuals, typical_predictions).numpy()\n",
    "print (\"mean squared error: \"+ str(mse))\n",
    "rmse = math.sqrt(tf.keras.metrics.mean_squared_error(typical_actuals, typical_predictions).numpy())\n",
    "print (\"root mean squared error: \"+ str(rmse))\n",
    "array_of_errors = (typical_actuals - typical_predictions)\n",
    "forecast_bias = sum(array_of_errors)\n",
    "#print (array_of_errors)\n",
    "print (\"forecast_bias: \"+ str(forecast_bias))\n",
    "std_dev_errors = np.std(array_of_errors)\n",
    "print (\"standard dev of errors: \"+ str(std_dev_errors))"
   ]
  },
  {
   "cell_type": "code",
   "execution_count": null,
   "metadata": {},
   "outputs": [],
   "source": [
    "time_typical = [i for i in range(len(typical_actuals))]\n",
    "plt.figure(figsize=(10, 6))\n",
    "plt.xticks(rotation=90)\n",
    "plt.xlabel(\"Time\")\n",
    "plt.ylabel(\"Volume Count\")\n",
    "plt.grid(False)\n",
    "plt.plot(time_typical, typical_actuals, color = 'blue')\n",
    "plt.plot(time_typical, typical_predictions, color = 'green')\n",
    "plt.ylim(top=120)"
   ]
  },
  {
   "cell_type": "markdown",
   "metadata": {},
   "source": [
    "## Forecast on Atypical Day Slice"
   ]
  },
  {
   "cell_type": "code",
   "execution_count": null,
   "metadata": {},
   "outputs": [],
   "source": [
    "atypical_actuals = x_valid[-240:]\n",
    "atypical_predictions = results[-240:]\n",
    "#print (atypical_predictions)\n",
    "\n",
    "mae = tf.keras.metrics.mean_absolute_error(atypical_actuals, atypical_predictions).numpy()\n",
    "print (\"mean absolute error: \"+ str(mae))\n",
    "mse = tf.keras.metrics.mean_squared_error(atypical_actuals, atypical_predictions).numpy()\n",
    "print (\"mean squared error: \"+ str(mse))\n",
    "rmse = math.sqrt(tf.keras.metrics.mean_squared_error(atypical_actuals, atypical_predictions).numpy())\n",
    "print (\"root mean squared error: \"+ str(rmse))\n",
    "array_of_errors = (atypical_actuals - atypical_predictions)\n",
    "forecast_bias = sum(array_of_errors)\n",
    "#print (array_of_errors)\n",
    "print (\"forecast_bias: \"+ str(forecast_bias))\n",
    "std_dev_errors = np.std(array_of_errors)\n",
    "print (\"standard dev of errors: \"+ str(std_dev_errors))"
   ]
  },
  {
   "cell_type": "code",
   "execution_count": null,
   "metadata": {},
   "outputs": [],
   "source": [
    "time_atypical = [i for i in range(len(atypical_actuals))]\n",
    "plt.figure(figsize=(10, 6))\n",
    "plt.xticks(rotation=90)\n",
    "plt.xlabel(\"Time\")\n",
    "plt.ylabel(\"Volume Count\")\n",
    "plt.grid(False)\n",
    "plt.plot(time_atypical, atypical_actuals, color = 'blue')\n",
    "plt.plot(time_atypical, atypical_predictions, color = 'green')\n",
    "plt.ylim(top=120)"
   ]
  },
  {
   "cell_type": "code",
   "execution_count": null,
   "metadata": {},
   "outputs": [],
   "source": [
    "import matplotlib.image  as mpimg\n",
    "import matplotlib.pyplot as plt\n",
    "\n",
    "#-----------------------------------------------------------\n",
    "# Retrieve a list of list results on training and test data\n",
    "# sets for each training epoch\n",
    "#-----------------------------------------------------------\n",
    "mae=history.history['mae']\n",
    "loss=history.history['loss']\n",
    "\n",
    "epochs=range(len(loss)) # Get number of epochs\n",
    "\n",
    "#------------------------------------------------\n",
    "# Plot MAE and Loss\n",
    "#------------------------------------------------\n",
    "plt.plot(epochs, mae, 'r')\n",
    "plt.plot(epochs, loss, 'b')\n",
    "plt.title('MAE and Loss')\n",
    "plt.xlabel(\"Epochs\")\n",
    "plt.ylabel(\"Accuracy\")\n",
    "plt.legend([\"MAE\", \"Loss\"])\n",
    "\n",
    "plt.figure()\n",
    "\n",
    "epochs_zoom = epochs[200:]\n",
    "mae_zoom = mae[200:]\n",
    "loss_zoom = loss[200:]\n",
    "\n",
    "#------------------------------------------------\n",
    "# Plot Zoomed MAE and Loss\n",
    "#------------------------------------------------\n",
    "plt.plot(epochs_zoom, mae_zoom, 'r')\n",
    "plt.plot(epochs_zoom, loss_zoom, 'b')\n",
    "plt.title('MAE and Loss')\n",
    "plt.xlabel(\"Epochs\")\n",
    "plt.ylabel(\"Accuracy\")\n",
    "plt.legend([\"MAE\", \"Loss\"])\n",
    "\n",
    "plt.figure()"
   ]
  },
  {
   "cell_type": "code",
   "execution_count": null,
   "metadata": {
    "scrolled": false
   },
   "outputs": [],
   "source": [
    "forecast = []\n",
    "results = []\n",
    "\n",
    "slice_val_time = 230\n",
    "sliced_val_series = x_valid[:slice_val_time] \n",
    "\n",
    "#forecasts only on validation part of time series\n",
    "#series_valid would be the validation part of time series starting from where you want to predict and foreact for number of units you want to predict\n",
    "units_missing = 30\n",
    "for t in range(units_missing):\n",
    "    l=len(sliced_val_series)\n",
    "    #print (sliced_val_series[(l-window_size):l])\n",
    "    forecast.append(new_model.predict(sliced_val_series[(l-window_size):l][np.newaxis]))\n",
    "    sliced_val_series = np.append(sliced_val_series, forecast[-1])\n",
    "\n",
    "\n",
    "#forecast = forecast[split_time-window_size:]\n",
    "results = np.array(forecast)[:, 0, 0]\n",
    "# print (results)\n",
    "print (sliced_val_series)\n",
    "\n",
    "sliced_val_actual = x_valid[:slice_val_time+units_missing] \n",
    "sliced_val_times = time_valid[:slice_val_time+units_missing]\n",
    "\n",
    "sliced_val_times = [i for i in range(len(sliced_val_times))]\n",
    "plt.figure(figsize=(10, 6))\n",
    "plt.xticks(rotation=90)\n",
    "plt.xlabel(\"Time\")\n",
    "plt.ylabel(\"Volume Count\")\n",
    "plt.grid(False)\n",
    "plt.plot(sliced_val_times, sliced_val_actual, color = 'blue')\n",
    "plt.plot(sliced_val_times, sliced_val_series, color = 'green')\n",
    "plt.ylim(top=120)\n",
    "\n",
    "# plot_series(sliced_val_times, sliced_val_actual)\n",
    "# plot_series(sliced_val_times, sliced_val_series)"
   ]
  },
  {
   "cell_type": "code",
   "execution_count": null,
   "metadata": {},
   "outputs": [],
   "source": [
    "tf.keras.metrics.mean_absolute_error(sliced_val_actual, sliced_val_series).numpy()"
   ]
  },
  {
   "cell_type": "code",
   "execution_count": null,
   "metadata": {},
   "outputs": [],
   "source": [
    "mae = tf.keras.metrics.mean_absolute_error(sliced_val_actual, sliced_val_series).numpy()\n",
    "print (\"mean absolute error: \"+ str(mae))\n",
    "mse = tf.keras.metrics.mean_squared_error(sliced_val_actual, sliced_val_series).numpy()\n",
    "print (\"mean squared error: \"+ str(mse))\n",
    "rmse = math.sqrt(tf.keras.metrics.mean_squared_error(sliced_val_actual, sliced_val_series).numpy())\n",
    "print (\"root mean squared error: \"+ str(rmse))\n",
    "array_of_errors = (sliced_val_actual-sliced_val_series)\n",
    "forecast_bias = sum(array_of_errors)\n",
    "#print (array_of_errors)\n",
    "print (\"forecast_bias: \"+ str(forecast_bias))\n",
    "std_dev_errors = np.std(array_of_errors)\n",
    "print (\"standard dev of errors: \"+ str(std_dev_errors))"
   ]
  },
  {
   "cell_type": "code",
   "execution_count": null,
   "metadata": {},
   "outputs": [],
   "source": [
    "actuals_slice = sliced_val_actual[-30:]\n",
    "predictions_slice = sliced_val_series[-30:]\n",
    "mae = tf.keras.metrics.mean_absolute_error(actuals_slice, predictions_slice).numpy()\n",
    "print (\"mean absolute error: \"+ str(mae))\n",
    "mse = tf.keras.metrics.mean_squared_error(actuals_slice, predictions_slice).numpy()\n",
    "print (\"mean squared error: \"+ str(mse))\n",
    "rmse = math.sqrt(tf.keras.metrics.mean_squared_error(actuals_slice, predictions_slice).numpy())\n",
    "print (\"root mean squared error: \"+ str(rmse))\n",
    "array_of_errors = (actuals_slice - predictions_slice)\n",
    "forecast_bias = sum(array_of_errors)\n",
    "#print (array_of_errors)\n",
    "print (\"forecast_bias: \"+ str(forecast_bias))\n",
    "std_dev_errors = np.std(array_of_errors)\n",
    "print (\"standard dev of errors: \"+ str(std_dev_errors))"
   ]
  },
  {
   "cell_type": "markdown",
   "metadata": {},
   "source": [
    "## Code for Different Time Slice"
   ]
  },
  {
   "cell_type": "code",
   "execution_count": null,
   "metadata": {},
   "outputs": [],
   "source": [
    "mae_array = []\n",
    "rmse_array = []\n",
    "std_array = []\n",
    "for slice_val_time in range(100,351,10):\n",
    "    forecast = []\n",
    "    results = []\n",
    "\n",
    "    #slice_val_time = 480\n",
    "    sliced_val_series = x_valid[:slice_val_time] \n",
    "\n",
    "    #forecasts only on validation part of time series\n",
    "    #series_valid would be the validation part of time series starting from where you want to predict and foreact for number of units you want to predict\n",
    "    units_missing = 120\n",
    "    for t in range(units_missing):\n",
    "        l=len(sliced_val_series)\n",
    "        #print (sliced_val_series[(l-window_size):l])\n",
    "        forecast.append(new_model.predict(sliced_val_series[(l-window_size):l][np.newaxis]))\n",
    "        sliced_val_series = np.append(sliced_val_series, forecast[-1])\n",
    "\n",
    "\n",
    "    #forecast = forecast[split_time-window_size:]\n",
    "    results = np.array(forecast)[:, 0, 0]\n",
    "    # print (results)\n",
    "    # print (sliced_val_series)\n",
    "\n",
    "    sliced_val_actual = x_valid[:slice_val_time+units_missing] \n",
    "    sliced_val_times = time_valid[:slice_val_time+units_missing]\n",
    "\n",
    "    sliced_val_times = [i for i in range(len(sliced_val_times))]\n",
    "    \n",
    "    actuals = sliced_val_actual[-units_missing:]\n",
    "    predictions = sliced_val_series[-units_missing:]\n",
    "    \n",
    "    mae = tf.keras.metrics.mean_absolute_error(actuals, predictions).numpy()\n",
    "    print (\"mean absolute error: \"+ str(mae))\n",
    "    mse = tf.keras.metrics.mean_squared_error(actuals, predictions).numpy()\n",
    "    print (\"mean squared error: \"+ str(mse))\n",
    "    rmse = math.sqrt(tf.keras.metrics.mean_squared_error(actuals, predictions).numpy())\n",
    "    print (\"root mean squared error: \"+ str(rmse))\n",
    "    array_of_errors = (actuals - predictions)\n",
    "    forecast_bias = sum(array_of_errors)\n",
    "    #print (array_of_errors)\n",
    "    print (\"forecast_bias: \"+ str(forecast_bias))\n",
    "    std_dev_errors = np.std(array_of_errors)\n",
    "    print (\"standard dev of errors: \"+ str(std_dev_errors))\n",
    "    \n",
    "    mae_array.append(mae)\n",
    "    rmse_array.append(rmse)\n",
    "    std_array.append(std_dev_errors)"
   ]
  },
  {
   "cell_type": "code",
   "execution_count": null,
   "metadata": {},
   "outputs": [],
   "source": [
    "print (mae_array)\n",
    "print (rmse_array)\n",
    "print (std_array)"
   ]
  },
  {
   "cell_type": "markdown",
   "metadata": {},
   "source": [
    "## Moving Average"
   ]
  },
  {
   "cell_type": "code",
   "execution_count": null,
   "metadata": {},
   "outputs": [],
   "source": [
    "def moving_average_forecast(series, window_size):\n",
    "    forecast = []\n",
    "    for time in range(len(series) - window_size):\n",
    "        forecast.append(series[time:time + window_size].mean())\n",
    "    return np.array(forecast)"
   ]
  },
  {
   "cell_type": "code",
   "execution_count": null,
   "metadata": {},
   "outputs": [],
   "source": [
    "moving_avg = moving_average_forecast(series, window_size)[split_time - window_size:]\n",
    "\n",
    "# plt.figure(figsize=(10, 6))\n",
    "# plot_series(time_valid, x_valid)\n",
    "# plot_series(time_valid, moving_avg)\n",
    "time_valid = [i for i in range(len(time_valid))]\n",
    "plt.figure(figsize=(10, 6))\n",
    "plt.xticks(rotation=90)\n",
    "plt.xlabel(\"Time\")\n",
    "plt.ylabel(\"Volume Count\")\n",
    "plt.grid(False)\n",
    "plt.plot(time_valid, x_valid, color = 'blue')\n",
    "plt.plot(time_valid, moving_avg, color = 'green')\n",
    "plt.ylim(top=120)"
   ]
  },
  {
   "cell_type": "code",
   "execution_count": null,
   "metadata": {},
   "outputs": [],
   "source": [
    "tf.keras.metrics.mean_absolute_error(x_valid, moving_avg).numpy()"
   ]
  },
  {
   "cell_type": "code",
   "execution_count": null,
   "metadata": {},
   "outputs": [],
   "source": [
    "mae = tf.keras.metrics.mean_absolute_error(x_valid, moving_avg).numpy()\n",
    "print (\"mean absolute error: \"+ str(mae))\n",
    "mse = tf.keras.metrics.mean_squared_error(x_valid, moving_avg).numpy()\n",
    "print (\"mean squared error: \"+ str(mse))\n",
    "rmse = math.sqrt(tf.keras.metrics.mean_squared_error(x_valid, moving_avg).numpy())\n",
    "print (\"root mean squared error: \"+ str(rmse))\n",
    "array_of_errors = (x_valid - moving_avg)\n",
    "forecast_bias = sum(array_of_errors)\n",
    "#print (array_of_errors)\n",
    "print (\"forecast_bias: \"+ str(forecast_bias))\n",
    "std_dev_errors = np.std(array_of_errors)\n",
    "print (\"standard dev of errors: \"+ str(std_dev_errors))"
   ]
  },
  {
   "cell_type": "code",
   "execution_count": null,
   "metadata": {},
   "outputs": [],
   "source": [
    "forecast = []\n",
    "results = []\n",
    "\n",
    "slice_val_time = 480\n",
    "sliced_val_series = x_valid[:slice_val_time] \n",
    "\n",
    "print (len(sliced_val_series))\n",
    "# x_val = series[split_time-window_size:]\n",
    "#sliced_val_series =x_valid\n",
    "\n",
    "#forecasts only on validation part of time series\n",
    "#series_valid would be the validation part of time series starting from where you want to predict and foreact for number of units you want to predict\n",
    "units_missing = 240\n",
    "for t in range(units_missing):\n",
    "    #forecast.append(series[time:time + window_size].mean())\n",
    "    #print (t)\n",
    "    forecast.append(sliced_val_series[t:t + window_size].mean())\n",
    "    sliced_val_series = np.append(sliced_val_series, forecast[-1])\n",
    "#     l=len(sliced_val_series)\n",
    "#     print (l)\n",
    "#     forecast.append(moving_average_forecast(sliced_val_series, window_size))\n",
    "#     #print (sliced_val_series[(l-window_size):l])\n",
    "#     #forecast.append(model.predict(sliced_val_series[(l-window_size):l][np.newaxis]))\n",
    "#     sliced_val_series = np.append(sliced_val_series, forecast[-1])\n",
    "\n",
    "#print (forecast)\n",
    "# #forecast = forecast[split_time-window_size:]\n",
    "# #results = np.array(forecast)[:, 0, 0]\n",
    "# # print (results)\n",
    "#print (sliced_val_series)\n",
    "# plt.figure(figsize=(10, 6))\n",
    "# plt.xticks(rotation=90)\n",
    "\n",
    "sliced_val_actual = x_valid[:slice_val_time+units_missing] \n",
    "sliced_val_times = time_valid[:slice_val_time+units_missing]\n",
    "\n",
    "sliced_val_times = [i for i in range(len(sliced_val_times))]\n",
    "plt.figure(figsize=(10, 6))\n",
    "plt.xticks(rotation=90)\n",
    "plt.xlabel(\"Time\")\n",
    "plt.ylabel(\"Volume Count\")\n",
    "plt.grid(False)\n",
    "plt.plot(sliced_val_times, sliced_val_actual, color = 'blue')\n",
    "plt.plot(sliced_val_times, sliced_val_series, color = 'green')\n",
    "plt.ylim(top=120)\n",
    "\n",
    "# plot_series(sliced_val_times, sliced_val_actual)\n",
    "# plot_series(sliced_val_times, sliced_val_series)"
   ]
  },
  {
   "cell_type": "code",
   "execution_count": null,
   "metadata": {},
   "outputs": [],
   "source": [
    "tf.keras.metrics.mean_absolute_error(sliced_val_actual, sliced_val_series).numpy()"
   ]
  },
  {
   "cell_type": "code",
   "execution_count": null,
   "metadata": {},
   "outputs": [],
   "source": [
    "mae = tf.keras.metrics.mean_absolute_error(sliced_val_actual, sliced_val_series).numpy()\n",
    "print (\"mean absolute error: \"+ str(mae))\n",
    "mse = tf.keras.metrics.mean_squared_error(sliced_val_actual, sliced_val_series).numpy()\n",
    "print (\"mean squared error: \"+ str(mse))\n",
    "rmse = math.sqrt(tf.keras.metrics.mean_squared_error(sliced_val_actual, sliced_val_series).numpy())\n",
    "print (\"root mean squared error: \"+ str(rmse))\n",
    "array_of_errors = (sliced_val_actual - sliced_val_series)\n",
    "forecast_bias = sum(array_of_errors)\n",
    "#print (array_of_errors)\n",
    "print (\"forecast_bias: \"+ str(forecast_bias))\n",
    "std_dev_errors = np.std(array_of_errors)\n",
    "print (\"standard dev of errors: \"+ str(std_dev_errors))"
   ]
  },
  {
   "cell_type": "markdown",
   "metadata": {},
   "source": [
    "## Model Performance on 18th March for Simulation Experiment"
   ]
  },
  {
   "cell_type": "code",
   "execution_count": 9,
   "metadata": {},
   "outputs": [
    {
     "data": {
      "image/png": "[encoded data removed]",
      "text/plain": [
       "<Figure size 432x288 with 1 Axes>"
      ]
     },
     "metadata": {
      "needs_background": "light"
     },
     "output_type": "display_data"
    }
   ],
   "source": [
    "## Load the orginal csv \n",
    "dataset_orginal = pd.read_csv('allmonday_reviseddata.csv', header=0, index_col=None)\n",
    "\n",
    "## Infill nan with -10 \n",
    "dataset_original_w_missing = dataset_orginal.fillna(-10,inplace=True)\n",
    "dataset_original = dataset_orginal[:-240]\n",
    "dataset_original=dataset_original[dataset_original['date_time'].str.contains(\"3/18/2019\")==True]\n",
    "\n",
    "#extract State-EB-L_1 series for 18th March\n",
    "series_18march = dataset_original['State-EB-L_2'].values\n",
    "time_18march = dataset_original['date_time'].values\n",
    "\n",
    "time_num_18march = [i for i in range(len(series_18march))]\n",
    "\n",
    "# Plot the 18th March data\n",
    "plt.plot(time_num_18march, series_18march, color = 'blue')\n",
    "#plot_series(time_num, series)\n",
    "\n",
    "plt.xlabel(\"Time\")\n",
    "plt.ylabel(\"Volume Count\")\n",
    "plt.ylim(top=120)\n",
    "plt.grid(False)"
   ]
  },
  {
   "cell_type": "code",
   "execution_count": 10,
   "metadata": {},
   "outputs": [
    {
     "data": {
      "text/plain": [
       "(-2.9000000000000004, 120)"
      ]
     },
     "execution_count": 10,
     "metadata": {},
     "output_type": "execute_result"
    },
    {
     "data": {
      "image/png": "[encoded data removed]",
      "text/plain": [
       "<Figure size 720x432 with 1 Axes>"
      ]
     },
     "metadata": {
      "needs_background": "light"
     },
     "output_type": "display_data"
    }
   ],
   "source": [
    "##apply model to the 18th march data\n",
    "forecast = []\n",
    "results = []\n",
    "\n",
    "slice_val_time = 150\n",
    "sliced_val_series = series_18march[:slice_val_time] \n",
    "\n",
    "#forecasts only on validation part of time series\n",
    "#series_valid would be the validation part of time series starting from where you want to predict and foreact for number of units you want to predict\n",
    "units_missing = 30\n",
    "for t in range(units_missing):\n",
    "    l=len(sliced_val_series)\n",
    "    #print (sliced_val_series[(l-window_size):l])\n",
    "    forecast.append(new_model.predict(sliced_val_series[(l-window_size):l][np.newaxis]))\n",
    "    sliced_val_series = np.append(sliced_val_series, forecast[-1])\n",
    "\n",
    "\n",
    "#forecast = forecast[split_time-window_size:]\n",
    "results = np.array(forecast)[:, 0, 0]\n",
    "# print (results)\n",
    "# print (sliced_val_series)\n",
    "\n",
    "sliced_val_actual = series_18march[:slice_val_time+units_missing] \n",
    "sliced_val_times = time_18march[:slice_val_time+units_missing]\n",
    "\n",
    "sliced_val_times = [i for i in range(len(sliced_val_times))]\n",
    "plt.figure(figsize=(10, 6))\n",
    "plt.xticks(rotation=90)\n",
    "plt.xlabel(\"Time\")\n",
    "plt.ylabel(\"Volume Count\")\n",
    "plt.grid(False)\n",
    "plt.plot(sliced_val_times, sliced_val_actual, color = 'blue')\n",
    "plt.plot(sliced_val_times, sliced_val_series, color = 'green')\n",
    "plt.ylim(top=120)"
   ]
  },
  {
   "cell_type": "code",
   "execution_count": 11,
   "metadata": {},
   "outputs": [
    {
     "name": "stdout",
     "output_type": "stream",
     "text": [
      "[ 3.  2.  4.  9.  7.  4.  6.  3.  1.  4.  2.  2.  0.  1.  4.  4.  2.  3.\n",
      "  4.  3.  1.  1.  4.  0.  2.  2.  7.  0.  1.  1.  0.  2.  0.  1.  1.  1.\n",
      "  0.  0.  1.  2.  2.  4.  4.  2.  3.  2.  5.  1.  3.  5.  2.  4.  1.  5.\n",
      "  5.  4.  2. 10. 10.  9. 11.  6. 19. 12. 18. 21. 16. 30. 31. 35. 33. 25.\n",
      " 27. 32. 48. 52. 46. 44. 56. 35. 46. 51. 37. 44. 58. 56. 41. 55. 41. 45.\n",
      " 40. 46. 27. 23. 44. 39. 30. 35. 34. 20. 23. 25. 24. 27. 24. 22. 18. 22.\n",
      " 18. 20. 16. 16. 18. 17. 26. 11. 18. 17. 22. 24. 24. 23. 28. 24. 27. 18.\n",
      " 27. 26. 27. 27. 28. 18. 26. 27. 17. 14. 16. 20. 20. 13. 15. 11. 25. 22.\n",
      " 18. 13. 15. 20. 17. 20. 17. 30. 31. 23. 38. 19. 15. 31. 28. 22. 21. 19.\n",
      " 24. 20. 23. 16. 21. 22. 23. 23. 32. 25. 27. 19. 29. 12. 24. 18. 22. 15.]\n",
      "[ 3.          2.          4.          9.          7.          4.\n",
      "  6.          3.          1.          4.          2.          2.\n",
      "  0.          1.          4.          4.          2.          3.\n",
      "  4.          3.          1.          1.          4.          0.\n",
      "  2.          2.          7.          0.          1.          1.\n",
      "  0.          2.          0.          1.          1.          1.\n",
      "  0.          0.          1.          2.          2.          4.\n",
      "  4.          2.          3.          2.          5.          1.\n",
      "  3.          5.          2.          4.          1.          5.\n",
      "  5.          4.          2.         10.         10.          9.\n",
      " 11.          6.         19.         12.         18.         21.\n",
      " 16.         30.         31.         35.         33.         25.\n",
      " 27.         32.         48.         52.         46.         44.\n",
      " 56.         35.         46.         51.         37.         44.\n",
      " 58.         56.         41.         55.         41.         45.\n",
      " 40.         46.         27.         23.         44.         39.\n",
      " 30.         35.         34.         20.         23.         25.\n",
      " 24.         27.         24.         22.         18.         22.\n",
      " 18.         20.         16.         16.         18.         17.\n",
      " 26.         11.         18.         17.         22.         24.\n",
      " 24.         23.         28.         24.         27.         18.\n",
      " 27.         26.         27.         27.         28.         18.\n",
      " 26.         27.         17.         14.         16.         20.\n",
      " 20.         13.         15.         11.         25.         22.\n",
      " 18.         13.         15.         20.         17.         20.\n",
      " 22.65248871 23.35756493 23.92527771 23.52676582 23.59742165 23.67885208\n",
      " 23.79800034 23.89964676 23.95310593 23.94839287 23.98278999 24.04802704\n",
      " 24.07940102 24.15277863 24.27461433 24.31124496 24.03747749 23.30417824\n",
      " 22.56134415 22.37224197 22.59086609 21.90322685 21.74875069 22.26185989\n",
      " 22.93320465 23.64577866 24.62826538 24.70228004 24.09321022 23.83496475]\n",
      "mean absolute error: 4.8372906366984045\n",
      "mean squared error: 35.80294604809472\n",
      "root mean squared error: 5.983556304414183\n",
      "forecast_bias: -16.80402183532715\n",
      "standard dev of errors: 5.9572809134372235\n"
     ]
    }
   ],
   "source": [
    "print (sliced_val_actual)\n",
    "print (sliced_val_series)\n",
    "actuals = sliced_val_actual[-units_missing:]\n",
    "predictions = sliced_val_series [-units_missing:]\n",
    "\n",
    "mae = tf.keras.metrics.mean_absolute_error(actuals, predictions).numpy()\n",
    "print (\"mean absolute error: \"+ str(mae))\n",
    "mse = tf.keras.metrics.mean_squared_error(actuals, predictions).numpy()\n",
    "print (\"mean squared error: \"+ str(mse))\n",
    "rmse = math.sqrt(tf.keras.metrics.mean_squared_error(actuals, predictions).numpy())\n",
    "print (\"root mean squared error: \"+ str(rmse))\n",
    "array_of_errors = (actuals-predictions)\n",
    "forecast_bias = sum(array_of_errors)\n",
    "#print (array_of_errors)\n",
    "print (\"forecast_bias: \"+ str(forecast_bias))\n",
    "std_dev_errors = np.std(array_of_errors)\n",
    "print (\"standard dev of errors: \"+ str(std_dev_errors))"
   ]
  },
  {
   "cell_type": "code",
   "execution_count": null,
   "metadata": {},
   "outputs": [],
   "source": [
    "## Store actual and predicted values in csv\n",
    "pd.DataFrame(sliced_val_actual).to_csv(\"actual_state_eb_l2_univariate_18mar.csv\")\n",
    "pd.DataFrame(sliced_val_series).to_csv(\"predicted_state_eb_l2_univariate_18mar.csv\")"
   ]
  },
  {
   "cell_type": "markdown",
   "metadata": {},
   "source": [
    "## Model Performance on 27 May (Memorial Day) for Simulation Experiment"
   ]
  },
  {
   "cell_type": "code",
   "execution_count": 12,
   "metadata": {},
   "outputs": [
    {
     "data": {
      "image/png": "[encoded data removed]",
      "text/plain": [
       "<Figure size 432x288 with 1 Axes>"
      ]
     },
     "metadata": {
      "needs_background": "light"
     },
     "output_type": "display_data"
    }
   ],
   "source": [
    "## Load the orginal csv \n",
    "dataset_orginal = pd.read_csv('allmonday_reviseddata_modified.csv', header=0, index_col=None)\n",
    "\n",
    "## Infill nan with -10 \n",
    "dataset_original_w_missing = dataset_orginal.fillna(-10,inplace=True)\n",
    "dataset_original = dataset_orginal[:-240]\n",
    "dataset_original=dataset_original[dataset_original['date_time'].str.contains(\"5/27/2019\")==True]\n",
    "\n",
    "#extract State-EB-L_1 series for 18th March\n",
    "series_5may = dataset_original['State-EB-L_2'].values\n",
    "time_5may = dataset_original['date_time'].values\n",
    "\n",
    "time_num_5may = [i for i in range(len(series_5may))]\n",
    "\n",
    "# Plot the 18th March data\n",
    "plt.plot(time_num_5may, series_5may, color = 'blue')\n",
    "#plot_series(time_num, series)\n",
    "\n",
    "plt.xlabel(\"Time\")\n",
    "plt.ylabel(\"Volume Count\")\n",
    "plt.ylim(top=120)\n",
    "plt.grid(False)"
   ]
  },
  {
   "cell_type": "code",
   "execution_count": 13,
   "metadata": {},
   "outputs": [
    {
     "data": {
      "text/plain": [
       "(-2.6509719848632813, 120)"
      ]
     },
     "execution_count": 13,
     "metadata": {},
     "output_type": "execute_result"
    },
    {
     "data": {
      "image/png": "[encoded data removed]",
      "text/plain": [
       "<Figure size 720x432 with 1 Axes>"
      ]
     },
     "metadata": {
      "needs_background": "light"
     },
     "output_type": "display_data"
    }
   ],
   "source": [
    "##apply model to the 27th may data\n",
    "forecast = []\n",
    "results = []\n",
    "\n",
    "slice_val_time = 150\n",
    "sliced_val_series = series_5may[:slice_val_time] \n",
    "\n",
    "#forecasts only on validation part of time series\n",
    "#series_valid would be the validation part of time series starting from where you want to predict and foreact for number of units you want to predict\n",
    "units_missing = 30\n",
    "for t in range(units_missing):\n",
    "    l=len(sliced_val_series)\n",
    "    #print (sliced_val_series[(l-window_size):l])\n",
    "    forecast.append(new_model.predict(sliced_val_series[(l-window_size):l][np.newaxis]))\n",
    "    sliced_val_series = np.append(sliced_val_series, forecast[-1])\n",
    "\n",
    "\n",
    "#forecast = forecast[split_time-window_size:]\n",
    "results = np.array(forecast)[:, 0, 0]\n",
    "# print (results)\n",
    "# print (sliced_val_series)\n",
    "\n",
    "sliced_val_actual = series_5may[:slice_val_time+units_missing] \n",
    "sliced_val_times = time_5may[:slice_val_time+units_missing]\n",
    "\n",
    "sliced_val_times = [i for i in range(len(sliced_val_times))]\n",
    "plt.figure(figsize=(10, 6))\n",
    "plt.xticks(rotation=90)\n",
    "plt.xlabel(\"Time\")\n",
    "plt.ylabel(\"Volume Count\")\n",
    "plt.grid(False)\n",
    "plt.plot(sliced_val_times, sliced_val_actual, color = 'blue')\n",
    "plt.plot(sliced_val_times, sliced_val_series, color = 'green')\n",
    "plt.ylim(top=120)"
   ]
  },
  {
   "cell_type": "code",
   "execution_count": 14,
   "metadata": {},
   "outputs": [
    {
     "name": "stdout",
     "output_type": "stream",
     "text": [
      "[ 9.  7.  9.  8.  9.  4.  5.  4.  5.  4.  3.  6.  6.  3.  3.  4.  4. 12.\n",
      "  3.  3.  7.  3.  2.  3.  3.  3.  4. 11.  1.  4.  2.  6.  5.  5.  1.  5.\n",
      "  5.  2.  5.  4.  6.  1.  4.  0.  7.  1.  4.  4.  4.  1.  6.  3.  4.  4.\n",
      "  2.  1.  2.  4.  3.  4.  2.  5.  3.  1.  4.  1.  3.  7.  5.  3.  3.  6.\n",
      " 10.  7. 11.  4.  6. 12.  5.  8.  4.  4.  3.  9.  9.  2.  6. 10. 11.  3.\n",
      "  7.  2.  3. 10.  7.  7.  9. 12.  8.  9.  8.  7.  7.  6. 10. 13. 10. 11.\n",
      " 12. 16. 10.  7.  8.  8.  7.  8.  5.  8.  9.  8.  7.  6.  6. 11. 17. 10.\n",
      " 12. 10.  8. 15.  7. 11.  9. 13.  9. 10.  8.  8. 13. 15. 11. 15. 14.  9.\n",
      " 14. 17. 11. 11. 12. 17.  9. 16. 13. 14.  9. 15. 12. 15. 18. 13. 12. 14.\n",
      " 16. 15.  8. 16.  3.  8.  6.  6. 10. 10. 13.  9. 15. 22.  9. 11. 12.  8.]\n",
      "[ 9.          7.          9.          8.          9.          4.\n",
      "  5.          4.          5.          4.          3.          6.\n",
      "  6.          3.          3.          4.          4.         12.\n",
      "  3.          3.          7.          3.          2.          3.\n",
      "  3.          3.          4.         11.          1.          4.\n",
      "  2.          6.          5.          5.          1.          5.\n",
      "  5.          2.          5.          4.          6.          1.\n",
      "  4.          0.          7.          1.          4.          4.\n",
      "  4.          1.          6.          3.          4.          4.\n",
      "  2.          1.          2.          4.          3.          4.\n",
      "  2.          5.          3.          1.          4.          1.\n",
      "  3.          7.          5.          3.          3.          6.\n",
      " 10.          7.         11.          4.          6.         12.\n",
      "  5.          8.          4.          4.          3.          9.\n",
      "  9.          2.          6.         10.         11.          3.\n",
      "  7.          2.          3.         10.          7.          7.\n",
      "  9.         12.          8.          9.          8.          7.\n",
      "  7.          6.         10.         13.         10.         11.\n",
      " 12.         16.         10.          7.          8.          8.\n",
      "  7.          8.          5.          8.          9.          8.\n",
      "  7.          6.          6.         11.         17.         10.\n",
      " 12.         10.          8.         15.          7.         11.\n",
      "  9.         13.          9.         10.          8.          8.\n",
      " 13.         15.         11.         15.         14.          9.\n",
      " 14.         17.         11.         11.         12.         17.\n",
      " 24.78384781 32.71232224 37.10419083 35.65100861 37.0792923  33.32262039\n",
      " 39.0368576  40.5116272  42.04429245 42.98366928 47.3408699  47.11361313\n",
      " 45.97122192 49.24198914 50.75372696 46.72529602 49.0389061  50.72237015\n",
      " 53.0194397  50.83660126 49.36934662 49.62666321 50.37445831 48.96520615\n",
      " 47.77335739 45.2699585  44.31626129 42.97898865 41.98343658 39.7635994 ]\n",
      "mean absolute error: 31.980501302083333\n",
      "mean squared error: 1094.106205042144\n",
      "root mean squared error: 33.07727626395717\n",
      "forecast_bias: -959.4150390625\n",
      "standard dev of errors: 8.447114389517305\n"
     ]
    }
   ],
   "source": [
    "print (sliced_val_actual)\n",
    "print (sliced_val_series)\n",
    "actuals = sliced_val_actual[-units_missing:]\n",
    "predictions = sliced_val_series [-units_missing:]\n",
    "\n",
    "mae = tf.keras.metrics.mean_absolute_error(actuals, predictions).numpy()\n",
    "print (\"mean absolute error: \"+ str(mae))\n",
    "mse = tf.keras.metrics.mean_squared_error(actuals, predictions).numpy()\n",
    "print (\"mean squared error: \"+ str(mse))\n",
    "rmse = math.sqrt(tf.keras.metrics.mean_squared_error(actuals, predictions).numpy())\n",
    "print (\"root mean squared error: \"+ str(rmse))\n",
    "array_of_errors = (actuals-predictions)\n",
    "forecast_bias = sum(array_of_errors)\n",
    "#print (array_of_errors)\n",
    "print (\"forecast_bias: \"+ str(forecast_bias))\n",
    "std_dev_errors = np.std(array_of_errors)\n",
    "print (\"standard dev of errors: \"+ str(std_dev_errors))"
   ]
  },
  {
   "cell_type": "code",
   "execution_count": null,
   "metadata": {},
   "outputs": [],
   "source": [
    "## Store actual and predicted values in csv\n",
    "pd.DataFrame(sliced_val_actual).to_csv(\"actual_state_eb_l2_univariate_27may.csv\")\n",
    "pd.DataFrame(sliced_val_series).to_csv(\"predicted_state_eb_l2_univariate_27may.csv\")"
   ]
  },
  {
   "cell_type": "code",
   "execution_count": null,
   "metadata": {},
   "outputs": [],
   "source": []
  }
 ],
 "metadata": {
  "kernelspec": {
   "display_name": "Python 3",
   "language": "python",
   "name": "python3"
  },
  "language_info": {
   "codemirror_mode": {
    "name": "ipython",
    "version": 3
   },
   "file_extension": ".py",
   "mimetype": "text/x-python",
   "name": "python",
   "nbconvert_exporter": "python",
   "pygments_lexer": "ipython3",
   "version": "3.7.4"
  }
 },
 "nbformat": 4,
 "nbformat_minor": 4
}
